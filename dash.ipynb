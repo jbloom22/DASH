{
 "cells": [
  {
   "cell_type": "markdown",
   "metadata": {},
   "source": [
    "## Demo of the distributed association scan hammer (DASH)\n",
    "\n",
    "Source: Section 4 of *Secure multi-party linear regression at plaintext speed*\n",
    "\n",
    "https://github.com/jbloom22/DASH"
   ]
  },
  {
   "cell_type": "code",
   "execution_count": null,
   "metadata": {
    "ExecuteTime": {
     "end_time": "2019-08-14T14:05:39.320287Z",
     "start_time": "2019-08-14T14:05:38.285091Z"
    }
   },
   "outputs": [],
   "source": [
    "import numpy as np\n",
    "import pandas as pd\n",
    "from scipy.stats import t\n",
    "from statsmodels.api import OLS"
   ]
  },
  {
   "cell_type": "markdown",
   "metadata": {},
   "source": [
    "### SIMULATE data"
   ]
  },
  {
   "cell_type": "code",
   "execution_count": null,
   "metadata": {
    "ExecuteTime": {
     "end_time": "2019-08-14T14:05:41.310288Z",
     "start_time": "2019-08-14T14:05:39.324923Z"
    }
   },
   "outputs": [],
   "source": [
    "np.random.seed(0)\n",
    "\n",
    "K = 3\n",
    "M = 10000\n",
    "\n",
    "# Alice\n",
    "N1 = 1000\n",
    "y1 = np.random.randn(N1)\n",
    "X1 = np.random.randn(N1, M)\n",
    "C1 = np.random.randn(N1, K)\n",
    "\n",
    "# Bob\n",
    "N2 = 2000\n",
    "y2 = np.random.randn(N2)\n",
    "X2 = np.random.randn(N2, M)\n",
    "C2 = np.random.randn(N2, K)\n",
    "\n",
    "# Carla\n",
    "N3 = 1500\n",
    "y3 = np.random.randn(N3)\n",
    "X3 = np.random.randn(N3, M)\n",
    "C3 = np.random.randn(N3, K)"
   ]
  },
  {
   "cell_type": "markdown",
   "metadata": {},
   "source": [
    "### PRIVATE COMPUTATION - Compress"
   ]
  },
  {
   "cell_type": "code",
   "execution_count": null,
   "metadata": {
    "ExecuteTime": {
     "end_time": "2019-08-14T14:05:41.874719Z",
     "start_time": "2019-08-14T14:05:41.313985Z"
    }
   },
   "outputs": [],
   "source": [
    "# Alice\n",
    "yy1 = y1.T @ y1\n",
    "Xy1 = X1.T @ y1\n",
    "XX1 = (X1**2).sum(axis=0)\n",
    "\n",
    "Cty1 = C1.T @ y1\n",
    "CtX1 = C1.T @ X1\n",
    "\n",
    "_, R1 = np.linalg.qr(C1)\n",
    "\n",
    "# Bob\n",
    "yy2 = y2.T @ y2\n",
    "Xy2 = X2.T @ y2\n",
    "XX2 = (X2**2).sum(axis=0)\n",
    "\n",
    "Cty2 = C2.T @ y2\n",
    "CtX2 = C2.T @ X2\n",
    "\n",
    "_, R2 = np.linalg.qr(C2)\n",
    "\n",
    "# Carla\n",
    "yy3 = y3.T @ y3\n",
    "Xy3 = X3.T @ y3\n",
    "XX3 = (X3**2).sum(axis=0)\n",
    "\n",
    "Cty3 = C3.T @ y3\n",
    "CtX3 = C3.T @ X3\n",
    "\n",
    "_, R3 = np.linalg.qr(C3)"
   ]
  },
  {
   "cell_type": "markdown",
   "metadata": {},
   "source": [
    "### MULTI-PARTY COMPUTATION - Combine\n",
    "\n",
    "Computation is now independent of the sample sizes. Practical security follows from non-invertibility of compression. For theoretical guarantees, do the following with secure multi-party computation."
   ]
  },
  {
   "cell_type": "code",
   "execution_count": null,
   "metadata": {
    "ExecuteTime": {
     "end_time": "2019-08-14T14:05:41.900928Z",
     "start_time": "2019-08-14T14:05:41.880088Z"
    }
   },
   "outputs": [],
   "source": [
    "D = N1 + N2 + N3 - K - 1\n",
    "\n",
    "yy = yy1 + yy2 + yy3\n",
    "Xy = Xy1 + Xy2 + Xy3\n",
    "XX = XX1 + XX2 + XX3\n",
    "\n",
    "Cty = Cty1 + Cty2 + Cty3\n",
    "CtX = CtX1 + CtX2 + CtX3\n",
    "\n",
    "_, R = np.linalg.qr(np.concatenate([R1, R2, R3]))\n",
    "\n",
    "# R is triangular so inverse and solve can be implemented by forward/back substition.\n",
    "Qty = np.linalg.solve(R.T, Cty)\n",
    "QtX = np.linalg.solve(R.T, CtX)\n",
    "\n",
    "QtyQty = Qty.T @ Qty\n",
    "QtXQty = QtX.T @ Qty\n",
    "QtXQtX = (QtX**2).sum(axis=0)\n",
    "\n",
    "yyq = yy - QtyQty\n",
    "Xyq = Xy - QtXQty\n",
    "XXq = XX - QtXQtX"
   ]
  },
  {
   "cell_type": "markdown",
   "metadata": {},
   "source": [
    "The endpoints of secure computation are effect size and squared standard error:"
   ]
  },
  {
   "cell_type": "code",
   "execution_count": null,
   "metadata": {
    "ExecuteTime": {
     "end_time": "2019-08-14T14:05:41.916680Z",
     "start_time": "2019-08-14T14:05:41.905745Z"
    }
   },
   "outputs": [],
   "source": [
    "beta = Xyq / XXq\n",
    "sigma_sq = (yyq / XXq - beta**2) / D"
   ]
  },
  {
   "cell_type": "markdown",
   "metadata": {},
   "source": [
    "With these we can compute t statistic and p-value:"
   ]
  },
  {
   "cell_type": "code",
   "execution_count": null,
   "metadata": {
    "ExecuteTime": {
     "end_time": "2019-08-14T14:05:41.941383Z",
     "start_time": "2019-08-14T14:05:41.921816Z"
    }
   },
   "outputs": [],
   "source": [
    "sigma = np.sqrt(sigma_sq)\n",
    "tstat = beta / sigma\n",
    "pval = 2 * t.cdf(-abs(tstat), D)"
   ]
  },
  {
   "cell_type": "markdown",
   "metadata": {},
   "source": [
    "Organize the DASH results above in a dataframe:"
   ]
  },
  {
   "cell_type": "code",
   "execution_count": null,
   "metadata": {
    "ExecuteTime": {
     "end_time": "2019-08-14T14:05:41.968037Z",
     "start_time": "2019-08-14T14:05:41.952507Z"
    }
   },
   "outputs": [],
   "source": [
    "df_dash = pd.DataFrame({'beta': beta,\n",
    "                        'sigma': sigma, \n",
    "                        'tstat': tstat, \n",
    "                        'pval': pval})\n",
    "\n",
    "df_dash"
   ]
  },
  {
   "cell_type": "markdown",
   "metadata": {},
   "source": [
    "### VERIFY correctness\n",
    "\n",
    "Recompute using the OLS model from statsmodel API:"
   ]
  },
  {
   "cell_type": "code",
   "execution_count": null,
   "metadata": {
    "ExecuteTime": {
     "end_time": "2019-08-14T14:05:42.647045Z",
     "start_time": "2019-08-14T14:05:41.975258Z"
    }
   },
   "outputs": [],
   "source": [
    "M0 = 5 # verify the first 5\n",
    "\n",
    "y = np.concatenate([y1 ,y2, y3])\n",
    "X = np.concatenate([X1, X2, X3])\n",
    "C = np.concatenate([C1, C2, C3])\n",
    "\n",
    "res = np.zeros([M0, 4])\n",
    "for m in range(M0):\n",
    "    model = OLS(y, np.concatenate((X[:, m:m+1], C), axis=1), hasconst=False)\n",
    "    tmp_res = model.fit()\n",
    "    res[m] = np.array([tmp_res.params[0], tmp_res.bse[0], tmp_res.tvalues[0], tmp_res.pvalues[0]]).ravel()\n",
    "\n",
    "df_ols = pd.DataFrame({'beta': res[:,0],\n",
    "                       'sigma': res[:,1],\n",
    "                       'tstat': res[:,2],\n",
    "                       'pval': res[:,3]})"
   ]
  },
  {
   "cell_type": "markdown",
   "metadata": {},
   "source": [
    "Verify agreement up to 10 digits after the decimal point:"
   ]
  },
  {
   "cell_type": "code",
   "execution_count": null,
   "metadata": {
    "ExecuteTime": {
     "end_time": "2019-08-14T14:05:42.699661Z",
     "start_time": "2019-08-14T14:05:42.660618Z"
    }
   },
   "outputs": [],
   "source": [
    "df_dash = df_dash.apply(lambda x: round(x, 10))\n",
    "df_ols = df_ols.apply(lambda x: round(x, 10))\n",
    "np.array(df_dash.iloc[:M0] == df_ols).all() # Returns TRUE"
   ]
  }
 ],
 "metadata": {
  "hide_input": false,
  "kernelspec": {
   "display_name": "Python 3",
   "language": "python",
   "name": "python3"
  },
  "language_info": {
   "codemirror_mode": {
    "name": "ipython",
    "version": 3
   },
   "file_extension": ".py",
   "mimetype": "text/x-python",
   "name": "python",
   "nbconvert_exporter": "python",
   "pygments_lexer": "ipython3",
   "version": "3.7.0"
  },
  "toc": {
   "base_numbering": 1,
   "nav_menu": {},
   "number_sections": true,
   "sideBar": true,
   "skip_h1_title": false,
   "title_cell": "Table of Contents",
   "title_sidebar": "Contents",
   "toc_cell": false,
   "toc_position": {},
   "toc_section_display": true,
   "toc_window_display": false
  },
  "varInspector": {
   "cols": {
    "lenName": 16,
    "lenType": 16,
    "lenVar": 40
   },
   "kernels_config": {
    "python": {
     "delete_cmd_postfix": "",
     "delete_cmd_prefix": "del ",
     "library": "var_list.py",
     "varRefreshCmd": "print(var_dic_list())"
    },
    "r": {
     "delete_cmd_postfix": ") ",
     "delete_cmd_prefix": "rm(",
     "library": "var_list.r",
     "varRefreshCmd": "cat(var_dic_list()) "
    }
   },
   "types_to_exclude": [
    "module",
    "function",
    "builtin_function_or_method",
    "instance",
    "_Feature"
   ],
   "window_display": false
  }
 },
 "nbformat": 4,
 "nbformat_minor": 2
}
